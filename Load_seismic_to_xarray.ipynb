{
 "cells": [
  {
   "cell_type": "code",
   "execution_count": 1,
   "id": "497f5c6e-64be-4925-b45b-579b8cfe9397",
   "metadata": {},
   "outputs": [],
   "source": [
    "import pathlib\n",
    "import platform\n",
    "from IPython.display import display\n",
    "\n",
    "import numpy as np\n",
    "import pandas as pd\n",
    "import matplotlib.pyplot as plt\n",
    "\n",
    "from segysak.segy import segy_header_scan, segy_header_scrape, get_segy_texthead\n",
    "import xarray as xr\n",
    "\n",
    "import bruges as bg"
   ]
  },
  {
   "cell_type": "code",
   "execution_count": 2,
   "id": "f56358a6-95c9-49f8-9576-d659814b5e76",
   "metadata": {},
   "outputs": [
    {
     "name": "stdout",
     "output_type": "stream",
     "text": [
      "3D Seismic/3d_nearstack.sgy True\n",
      "3D Seismic/3d_farstack.sgy True\n"
     ]
    }
   ],
   "source": [
    "nears_path = pathlib.Path(\"Seismic/3d_nearstack.sgy\")\n",
    "print(\"3D\", nears_path, nears_path.exists())\n",
    "\n",
    "fars_path = pathlib.Path(\"Seismic/3d_farstack.sgy\")\n",
    "print(\"3D\", fars_path, fars_path.exists())"
   ]
  },
  {
   "cell_type": "code",
   "execution_count": 3,
   "id": "1e74c863-a750-45e4-9dcc-a9c3b8ccfd19",
   "metadata": {
    "scrolled": true
   },
   "outputs": [],
   "source": [
    "# get_segy_texthead(nears_path)"
   ]
  },
  {
   "cell_type": "code",
   "execution_count": 4,
   "id": "6bdd88c2-953f-4d5c-95f7-ff589df8978e",
   "metadata": {
    "scrolled": true
   },
   "outputs": [],
   "source": [
    "# scan = segy_header_scan(nears_path)\n",
    "\n",
    "# with pd.option_context(\"display.max_rows\", 100, \"display.max_columns\", 10):\n",
    "#     # drop byte locations where the mean is zero, these are likely empty.\n",
    "#     display(scan)"
   ]
  },
  {
   "cell_type": "code",
   "execution_count": 5,
   "id": "1cc0cd6c-e35b-4dc9-8d96-6cc153ceb9cc",
   "metadata": {
    "scrolled": true
   },
   "outputs": [],
   "source": [
    "# scan[scan[\"mean\"] > 0]"
   ]
  },
  {
   "cell_type": "code",
   "execution_count": 6,
   "id": "e53d5413-6318-4c64-9076-685d56da202c",
   "metadata": {},
   "outputs": [],
   "source": [
    "# scrape = segy_header_scrape(nears_path, partial_scan=1000)\n",
    "# scrape"
   ]
  },
  {
   "cell_type": "code",
   "execution_count": 7,
   "id": "333d81da-96b4-435a-bb78-7001f3b8a78f",
   "metadata": {},
   "outputs": [
    {
     "data": {
      "application/vnd.jupyter.widget-view+json": {
       "model_id": "d0aaf10469f7404e8550e60ce4da3c5f",
       "version_major": 2,
       "version_minor": 0
      },
      "text/plain": [
       "Processing Chunks:   0%|          | 0.00/1.00 [00:00<?, ? trace-chunks/s]"
      ]
     },
     "metadata": {},
     "output_type": "display_data"
    },
    {
     "data": {
      "application/vnd.jupyter.widget-view+json": {
       "model_id": "65a2ffcb475942f7aeddaa54f7d5f595",
       "version_major": 2,
       "version_minor": 0
      },
      "text/plain": [
       "Reading header:   0%|          | 0.00/25.4k [00:00<?, ? traces/s]"
      ]
     },
     "metadata": {},
     "output_type": "display_data"
    }
   ],
   "source": [
    "nears = xr.open_dataset(\n",
    "    nears_path,\n",
    "    dim_byte_fields={\"iline\": 41, \"xline\": 21},\n",
    "    extra_byte_fields={\"cdp_x\": 73, \"cdp_y\": 77},\n",
    ")\n",
    "nears = nears.rename_vars({'data' : 'nears'})"
   ]
  },
  {
   "cell_type": "code",
   "execution_count": 8,
   "id": "47abc547-65db-4f7f-a16b-0833e241fcef",
   "metadata": {},
   "outputs": [
    {
     "data": {
      "application/vnd.jupyter.widget-view+json": {
       "model_id": "f9922fbce244444cb5feabf12a1f1557",
       "version_major": 2,
       "version_minor": 0
      },
      "text/plain": [
       "Processing Chunks:   0%|          | 0.00/1.00 [00:00<?, ? trace-chunks/s]"
      ]
     },
     "metadata": {},
     "output_type": "display_data"
    },
    {
     "data": {
      "application/vnd.jupyter.widget-view+json": {
       "model_id": "6bb753977b824fbbb5299e7242ad898e",
       "version_major": 2,
       "version_minor": 0
      },
      "text/plain": [
       "Reading header:   0%|          | 0.00/25.4k [00:00<?, ? traces/s]"
      ]
     },
     "metadata": {},
     "output_type": "display_data"
    }
   ],
   "source": [
    "fars = xr.open_dataset(\n",
    "    fars_path,\n",
    "    dim_byte_fields={\"iline\": 41, \"xline\": 21},\n",
    "    extra_byte_fields={\"cdp_x\": 73, \"cdp_y\": 77},\n",
    ")\n",
    "fars = fars.rename_vars({'data' : 'fars'})"
   ]
  },
  {
   "cell_type": "code",
   "execution_count": 9,
   "id": "97b98fc5-de0b-4163-8a23-c3af08cb058c",
   "metadata": {},
   "outputs": [],
   "source": [
    "vol = xr.merge([nears, fars], compat='override')"
   ]
  },
  {
   "cell_type": "code",
   "execution_count": 10,
   "id": "acb7d5ed-b3f3-42dc-9fcf-e985d7db0616",
   "metadata": {},
   "outputs": [],
   "source": [
    "# vol = vol.rename_vars({\"samples\" : \"twt\"})\n"
   ]
  },
  {
   "cell_type": "code",
   "execution_count": 11,
   "id": "2c9ff8c5-6b5a-4c3d-998d-e3f4d9b57722",
   "metadata": {},
   "outputs": [],
   "source": [
    "vol = vol.set_coords((\"cdp_x\", \"cdp_y\"))\n",
    "\n",
    "# Inline numbering has been multiplied by 1000\n",
    "vol = vol.assign_coords({\"iline\": (vol.iline / 1000).astype(np.int16)})\n",
    "# TWT starts at 1500msTWT but loaded from 0msTWT\n",
    "vol = vol.assign_coords({\"samples\": (vol.samples + 1500).astype(np.int16)})\n",
    "# vol"
   ]
  },
  {
   "cell_type": "code",
   "execution_count": 12,
   "id": "191dce6d-4418-4175-b606-c93a1773b70c",
   "metadata": {},
   "outputs": [],
   "source": [
    "# for grp, subds in vol.groupby(\"trace\"):\n",
    "#     print(grp)\n",
    "#     print(subds)\n",
    "#     break\n",
    "\n",
    "# # dimension reduction.  can take 1 or more traces at a time..."
   ]
  },
  {
   "cell_type": "code",
   "execution_count": 13,
   "id": "780b6e66-fc3f-496f-8e03-02ca5cc0e3a6",
   "metadata": {},
   "outputs": [],
   "source": [
    "# vol.to_netcdf(\"Seismic/volume.seisnc\")\n",
    "\n",
    "# or\n",
    "\n",
    "# vol.seisio.to_segy(\n",
    "#     \"Seismic/volume.segy\",\n",
    "#     trace_header_map={'cdp_x' : 73, \"cdp_y\" : 77},\n",
    "#     iline=189,\n",
    "#     xline=193,\n",
    "# )"
   ]
  },
  {
   "cell_type": "code",
   "execution_count": 14,
   "id": "2f784599-5cdd-474a-bb81-9ca7a9dd26e3",
   "metadata": {},
   "outputs": [],
   "source": [
    "#vol[\"N-F\"] = vol.nears - vol.fars\n",
    "vol[\"(F-N)F\"] = (vol.fars - vol.nears)*vol.fars\n",
    "# vol"
   ]
  },
  {
   "cell_type": "code",
   "execution_count": 15,
   "id": "b2c26c95-6b2c-4803-8691-1f25fdd081ab",
   "metadata": {},
   "outputs": [
    {
     "data": {
      "text/html": [
       "<div>\n",
       "<style scoped>\n",
       "    .dataframe tbody tr th:only-of-type {\n",
       "        vertical-align: middle;\n",
       "    }\n",
       "\n",
       "    .dataframe tbody tr th {\n",
       "        vertical-align: top;\n",
       "    }\n",
       "\n",
       "    .dataframe thead th {\n",
       "        text-align: right;\n",
       "    }\n",
       "</style>\n",
       "<table border=\"1\" class=\"dataframe\">\n",
       "  <thead>\n",
       "    <tr style=\"text-align: right;\">\n",
       "      <th></th>\n",
       "      <th>iline</th>\n",
       "      <th>xline</th>\n",
       "      <th>twt</th>\n",
       "    </tr>\n",
       "  </thead>\n",
       "  <tbody>\n",
       "    <tr>\n",
       "      <th>0</th>\n",
       "      <td>1300</td>\n",
       "      <td>1500</td>\n",
       "      <td>2084.9</td>\n",
       "    </tr>\n",
       "    <tr>\n",
       "      <th>1</th>\n",
       "      <td>1300</td>\n",
       "      <td>1502</td>\n",
       "      <td>2084.6</td>\n",
       "    </tr>\n",
       "    <tr>\n",
       "      <th>2</th>\n",
       "      <td>1300</td>\n",
       "      <td>1504</td>\n",
       "      <td>2085.7</td>\n",
       "    </tr>\n",
       "    <tr>\n",
       "      <th>3</th>\n",
       "      <td>1300</td>\n",
       "      <td>1506</td>\n",
       "      <td>2085.0</td>\n",
       "    </tr>\n",
       "    <tr>\n",
       "      <th>4</th>\n",
       "      <td>1300</td>\n",
       "      <td>1508</td>\n",
       "      <td>2084.2</td>\n",
       "    </tr>\n",
       "  </tbody>\n",
       "</table>\n",
       "</div>"
      ],
      "text/plain": [
       "   iline  xline     twt\n",
       "0   1300   1500  2084.9\n",
       "1   1300   1502  2084.6\n",
       "2   1300   1504  2085.7\n",
       "3   1300   1506  2085.0\n",
       "4   1300   1508  2084.2"
      ]
     },
     "execution_count": 15,
     "metadata": {},
     "output_type": "execute_result"
    }
   ],
   "source": [
    "hrz_file = pathlib.Path(\"Horizons/Top_Heimdal_subset.txt\")\n",
    "df = pd.read_csv(hrz_file, names=[\"iline\", \"xline\", \"twt\"], sep=r'\\s+', engine='python')\n",
    "df.head()"
   ]
  },
  {
   "cell_type": "code",
   "execution_count": 16,
   "id": "692743cf-e4d1-4c23-986c-bea44ddf849a",
   "metadata": {},
   "outputs": [
    {
     "data": {
      "text/html": [
       "<div><svg style=\"position: absolute; width: 0; height: 0; overflow: hidden\">\n",
       "<defs>\n",
       "<symbol id=\"icon-database\" viewBox=\"0 0 32 32\">\n",
       "<path d=\"M16 0c-8.837 0-16 2.239-16 5v4c0 2.761 7.163 5 16 5s16-2.239 16-5v-4c0-2.761-7.163-5-16-5z\"></path>\n",
       "<path d=\"M16 17c-8.837 0-16-2.239-16-5v6c0 2.761 7.163 5 16 5s16-2.239 16-5v-6c0 2.761-7.163 5-16 5z\"></path>\n",
       "<path d=\"M16 26c-8.837 0-16-2.239-16-5v6c0 2.761 7.163 5 16 5s16-2.239 16-5v-6c0 2.761-7.163 5-16 5z\"></path>\n",
       "</symbol>\n",
       "<symbol id=\"icon-file-text2\" viewBox=\"0 0 32 32\">\n",
       "<path d=\"M28.681 7.159c-0.694-0.947-1.662-2.053-2.724-3.116s-2.169-2.030-3.116-2.724c-1.612-1.182-2.393-1.319-2.841-1.319h-15.5c-1.378 0-2.5 1.121-2.5 2.5v27c0 1.378 1.122 2.5 2.5 2.5h23c1.378 0 2.5-1.122 2.5-2.5v-19.5c0-0.448-0.137-1.23-1.319-2.841zM24.543 5.457c0.959 0.959 1.712 1.825 2.268 2.543h-4.811v-4.811c0.718 0.556 1.584 1.309 2.543 2.268zM28 29.5c0 0.271-0.229 0.5-0.5 0.5h-23c-0.271 0-0.5-0.229-0.5-0.5v-27c0-0.271 0.229-0.5 0.5-0.5 0 0 15.499-0 15.5 0v7c0 0.552 0.448 1 1 1h7v19.5z\"></path>\n",
       "<path d=\"M23 26h-14c-0.552 0-1-0.448-1-1s0.448-1 1-1h14c0.552 0 1 0.448 1 1s-0.448 1-1 1z\"></path>\n",
       "<path d=\"M23 22h-14c-0.552 0-1-0.448-1-1s0.448-1 1-1h14c0.552 0 1 0.448 1 1s-0.448 1-1 1z\"></path>\n",
       "<path d=\"M23 18h-14c-0.552 0-1-0.448-1-1s0.448-1 1-1h14c0.552 0 1 0.448 1 1s-0.448 1-1 1z\"></path>\n",
       "</symbol>\n",
       "</defs>\n",
       "</svg>\n",
       "<style>/* CSS stylesheet for displaying xarray objects in jupyterlab.\n",
       " *\n",
       " */\n",
       "\n",
       ":root {\n",
       "  --xr-font-color0: var(--jp-content-font-color0, rgba(0, 0, 0, 1));\n",
       "  --xr-font-color2: var(--jp-content-font-color2, rgba(0, 0, 0, 0.54));\n",
       "  --xr-font-color3: var(--jp-content-font-color3, rgba(0, 0, 0, 0.38));\n",
       "  --xr-border-color: var(--jp-border-color2, #e0e0e0);\n",
       "  --xr-disabled-color: var(--jp-layout-color3, #bdbdbd);\n",
       "  --xr-background-color: var(--jp-layout-color0, white);\n",
       "  --xr-background-color-row-even: var(--jp-layout-color1, white);\n",
       "  --xr-background-color-row-odd: var(--jp-layout-color2, #eeeeee);\n",
       "}\n",
       "\n",
       "html[theme=\"dark\"],\n",
       "html[data-theme=\"dark\"],\n",
       "body[data-theme=\"dark\"],\n",
       "body.vscode-dark {\n",
       "  --xr-font-color0: rgba(255, 255, 255, 1);\n",
       "  --xr-font-color2: rgba(255, 255, 255, 0.54);\n",
       "  --xr-font-color3: rgba(255, 255, 255, 0.38);\n",
       "  --xr-border-color: #1f1f1f;\n",
       "  --xr-disabled-color: #515151;\n",
       "  --xr-background-color: #111111;\n",
       "  --xr-background-color-row-even: #111111;\n",
       "  --xr-background-color-row-odd: #313131;\n",
       "}\n",
       "\n",
       ".xr-wrap {\n",
       "  display: block !important;\n",
       "  min-width: 300px;\n",
       "  max-width: 700px;\n",
       "}\n",
       "\n",
       ".xr-text-repr-fallback {\n",
       "  /* fallback to plain text repr when CSS is not injected (untrusted notebook) */\n",
       "  display: none;\n",
       "}\n",
       "\n",
       ".xr-header {\n",
       "  padding-top: 6px;\n",
       "  padding-bottom: 6px;\n",
       "  margin-bottom: 4px;\n",
       "  border-bottom: solid 1px var(--xr-border-color);\n",
       "}\n",
       "\n",
       ".xr-header > div,\n",
       ".xr-header > ul {\n",
       "  display: inline;\n",
       "  margin-top: 0;\n",
       "  margin-bottom: 0;\n",
       "}\n",
       "\n",
       ".xr-obj-type,\n",
       ".xr-array-name {\n",
       "  margin-left: 2px;\n",
       "  margin-right: 10px;\n",
       "}\n",
       "\n",
       ".xr-obj-type {\n",
       "  color: var(--xr-font-color2);\n",
       "}\n",
       "\n",
       ".xr-sections {\n",
       "  padding-left: 0 !important;\n",
       "  display: grid;\n",
       "  grid-template-columns: 150px auto auto 1fr 0 20px 0 20px;\n",
       "}\n",
       "\n",
       ".xr-section-item {\n",
       "  display: contents;\n",
       "}\n",
       "\n",
       ".xr-section-item input {\n",
       "  display: inline-block;\n",
       "  opacity: 0;\n",
       "  height: 0;\n",
       "}\n",
       "\n",
       ".xr-section-item input + label {\n",
       "  color: var(--xr-disabled-color);\n",
       "}\n",
       "\n",
       ".xr-section-item input:enabled + label {\n",
       "  cursor: pointer;\n",
       "  color: var(--xr-font-color2);\n",
       "}\n",
       "\n",
       ".xr-section-item input:focus + label {\n",
       "  border: 2px solid var(--xr-font-color0);\n",
       "}\n",
       "\n",
       ".xr-section-item input:enabled + label:hover {\n",
       "  color: var(--xr-font-color0);\n",
       "}\n",
       "\n",
       ".xr-section-summary {\n",
       "  grid-column: 1;\n",
       "  color: var(--xr-font-color2);\n",
       "  font-weight: 500;\n",
       "}\n",
       "\n",
       ".xr-section-summary > span {\n",
       "  display: inline-block;\n",
       "  padding-left: 0.5em;\n",
       "}\n",
       "\n",
       ".xr-section-summary-in:disabled + label {\n",
       "  color: var(--xr-font-color2);\n",
       "}\n",
       "\n",
       ".xr-section-summary-in + label:before {\n",
       "  display: inline-block;\n",
       "  content: \"►\";\n",
       "  font-size: 11px;\n",
       "  width: 15px;\n",
       "  text-align: center;\n",
       "}\n",
       "\n",
       ".xr-section-summary-in:disabled + label:before {\n",
       "  color: var(--xr-disabled-color);\n",
       "}\n",
       "\n",
       ".xr-section-summary-in:checked + label:before {\n",
       "  content: \"▼\";\n",
       "}\n",
       "\n",
       ".xr-section-summary-in:checked + label > span {\n",
       "  display: none;\n",
       "}\n",
       "\n",
       ".xr-section-summary,\n",
       ".xr-section-inline-details {\n",
       "  padding-top: 4px;\n",
       "  padding-bottom: 4px;\n",
       "}\n",
       "\n",
       ".xr-section-inline-details {\n",
       "  grid-column: 2 / -1;\n",
       "}\n",
       "\n",
       ".xr-section-details {\n",
       "  display: none;\n",
       "  grid-column: 1 / -1;\n",
       "  margin-bottom: 5px;\n",
       "}\n",
       "\n",
       ".xr-section-summary-in:checked ~ .xr-section-details {\n",
       "  display: contents;\n",
       "}\n",
       "\n",
       ".xr-array-wrap {\n",
       "  grid-column: 1 / -1;\n",
       "  display: grid;\n",
       "  grid-template-columns: 20px auto;\n",
       "}\n",
       "\n",
       ".xr-array-wrap > label {\n",
       "  grid-column: 1;\n",
       "  vertical-align: top;\n",
       "}\n",
       "\n",
       ".xr-preview {\n",
       "  color: var(--xr-font-color3);\n",
       "}\n",
       "\n",
       ".xr-array-preview,\n",
       ".xr-array-data {\n",
       "  padding: 0 5px !important;\n",
       "  grid-column: 2;\n",
       "}\n",
       "\n",
       ".xr-array-data,\n",
       ".xr-array-in:checked ~ .xr-array-preview {\n",
       "  display: none;\n",
       "}\n",
       "\n",
       ".xr-array-in:checked ~ .xr-array-data,\n",
       ".xr-array-preview {\n",
       "  display: inline-block;\n",
       "}\n",
       "\n",
       ".xr-dim-list {\n",
       "  display: inline-block !important;\n",
       "  list-style: none;\n",
       "  padding: 0 !important;\n",
       "  margin: 0;\n",
       "}\n",
       "\n",
       ".xr-dim-list li {\n",
       "  display: inline-block;\n",
       "  padding: 0;\n",
       "  margin: 0;\n",
       "}\n",
       "\n",
       ".xr-dim-list:before {\n",
       "  content: \"(\";\n",
       "}\n",
       "\n",
       ".xr-dim-list:after {\n",
       "  content: \")\";\n",
       "}\n",
       "\n",
       ".xr-dim-list li:not(:last-child):after {\n",
       "  content: \",\";\n",
       "  padding-right: 5px;\n",
       "}\n",
       "\n",
       ".xr-has-index {\n",
       "  font-weight: bold;\n",
       "}\n",
       "\n",
       ".xr-var-list,\n",
       ".xr-var-item {\n",
       "  display: contents;\n",
       "}\n",
       "\n",
       ".xr-var-item > div,\n",
       ".xr-var-item label,\n",
       ".xr-var-item > .xr-var-name span {\n",
       "  background-color: var(--xr-background-color-row-even);\n",
       "  margin-bottom: 0;\n",
       "}\n",
       "\n",
       ".xr-var-item > .xr-var-name:hover span {\n",
       "  padding-right: 5px;\n",
       "}\n",
       "\n",
       ".xr-var-list > li:nth-child(odd) > div,\n",
       ".xr-var-list > li:nth-child(odd) > label,\n",
       ".xr-var-list > li:nth-child(odd) > .xr-var-name span {\n",
       "  background-color: var(--xr-background-color-row-odd);\n",
       "}\n",
       "\n",
       ".xr-var-name {\n",
       "  grid-column: 1;\n",
       "}\n",
       "\n",
       ".xr-var-dims {\n",
       "  grid-column: 2;\n",
       "}\n",
       "\n",
       ".xr-var-dtype {\n",
       "  grid-column: 3;\n",
       "  text-align: right;\n",
       "  color: var(--xr-font-color2);\n",
       "}\n",
       "\n",
       ".xr-var-preview {\n",
       "  grid-column: 4;\n",
       "}\n",
       "\n",
       ".xr-index-preview {\n",
       "  grid-column: 2 / 5;\n",
       "  color: var(--xr-font-color2);\n",
       "}\n",
       "\n",
       ".xr-var-name,\n",
       ".xr-var-dims,\n",
       ".xr-var-dtype,\n",
       ".xr-preview,\n",
       ".xr-attrs dt {\n",
       "  white-space: nowrap;\n",
       "  overflow: hidden;\n",
       "  text-overflow: ellipsis;\n",
       "  padding-right: 10px;\n",
       "}\n",
       "\n",
       ".xr-var-name:hover,\n",
       ".xr-var-dims:hover,\n",
       ".xr-var-dtype:hover,\n",
       ".xr-attrs dt:hover {\n",
       "  overflow: visible;\n",
       "  width: auto;\n",
       "  z-index: 1;\n",
       "}\n",
       "\n",
       ".xr-var-attrs,\n",
       ".xr-var-data,\n",
       ".xr-index-data {\n",
       "  display: none;\n",
       "  background-color: var(--xr-background-color) !important;\n",
       "  padding-bottom: 5px !important;\n",
       "}\n",
       "\n",
       ".xr-var-attrs-in:checked ~ .xr-var-attrs,\n",
       ".xr-var-data-in:checked ~ .xr-var-data,\n",
       ".xr-index-data-in:checked ~ .xr-index-data {\n",
       "  display: block;\n",
       "}\n",
       "\n",
       ".xr-var-data > table {\n",
       "  float: right;\n",
       "}\n",
       "\n",
       ".xr-var-name span,\n",
       ".xr-var-data,\n",
       ".xr-index-name div,\n",
       ".xr-index-data,\n",
       ".xr-attrs {\n",
       "  padding-left: 25px !important;\n",
       "}\n",
       "\n",
       ".xr-attrs,\n",
       ".xr-var-attrs,\n",
       ".xr-var-data,\n",
       ".xr-index-data {\n",
       "  grid-column: 1 / -1;\n",
       "}\n",
       "\n",
       "dl.xr-attrs {\n",
       "  padding: 0;\n",
       "  margin: 0;\n",
       "  display: grid;\n",
       "  grid-template-columns: 125px auto;\n",
       "}\n",
       "\n",
       ".xr-attrs dt,\n",
       ".xr-attrs dd {\n",
       "  padding: 0;\n",
       "  margin: 0;\n",
       "  float: left;\n",
       "  padding-right: 10px;\n",
       "  width: auto;\n",
       "}\n",
       "\n",
       ".xr-attrs dt {\n",
       "  font-weight: normal;\n",
       "  grid-column: 1;\n",
       "}\n",
       "\n",
       ".xr-attrs dt:hover span {\n",
       "  display: inline-block;\n",
       "  background: var(--xr-background-color);\n",
       "  padding-right: 10px;\n",
       "}\n",
       "\n",
       ".xr-attrs dd {\n",
       "  grid-column: 2;\n",
       "  white-space: pre-wrap;\n",
       "  word-break: break-all;\n",
       "}\n",
       "\n",
       ".xr-icon-database,\n",
       ".xr-icon-file-text2,\n",
       ".xr-no-icon {\n",
       "  display: inline-block;\n",
       "  vertical-align: middle;\n",
       "  width: 1em;\n",
       "  height: 1.5em !important;\n",
       "  stroke-width: 0;\n",
       "  stroke: currentColor;\n",
       "  fill: currentColor;\n",
       "}\n",
       "</style><pre class='xr-text-repr-fallback'>&lt;xarray.Dataset&gt; Size: 105kB\n",
       "Dimensions:  (iline: 51, xline: 251)\n",
       "Coordinates:\n",
       "  * iline    (iline) int64 408B 1300 1304 1308 1312 1316 ... 1488 1492 1496 1500\n",
       "  * xline    (xline) int64 2kB 1500 1502 1504 1506 1508 ... 1994 1996 1998 2000\n",
       "Data variables:\n",
       "    twt      (iline, xline) float64 102kB 2.085e+03 2.085e+03 ... 2.127e+03</pre><div class='xr-wrap' style='display:none'><div class='xr-header'><div class='xr-obj-type'>xarray.Dataset</div></div><ul class='xr-sections'><li class='xr-section-item'><input id='section-daad305b-86a1-4b28-9424-4c4f1f60e188' class='xr-section-summary-in' type='checkbox' disabled ><label for='section-daad305b-86a1-4b28-9424-4c4f1f60e188' class='xr-section-summary'  title='Expand/collapse section'>Dimensions:</label><div class='xr-section-inline-details'><ul class='xr-dim-list'><li><span class='xr-has-index'>iline</span>: 51</li><li><span class='xr-has-index'>xline</span>: 251</li></ul></div><div class='xr-section-details'></div></li><li class='xr-section-item'><input id='section-3335b1ff-f016-447f-9c18-d556de16f565' class='xr-section-summary-in' type='checkbox'  checked><label for='section-3335b1ff-f016-447f-9c18-d556de16f565' class='xr-section-summary' >Coordinates: <span>(2)</span></label><div class='xr-section-inline-details'></div><div class='xr-section-details'><ul class='xr-var-list'><li class='xr-var-item'><div class='xr-var-name'><span class='xr-has-index'>iline</span></div><div class='xr-var-dims'>(iline)</div><div class='xr-var-dtype'>int64</div><div class='xr-var-preview xr-preview'>1300 1304 1308 ... 1492 1496 1500</div><input id='attrs-ae705aad-5132-4c5a-ad4a-1b346f2d324d' class='xr-var-attrs-in' type='checkbox' disabled><label for='attrs-ae705aad-5132-4c5a-ad4a-1b346f2d324d' title='Show/Hide attributes'><svg class='icon xr-icon-file-text2'><use xlink:href='#icon-file-text2'></use></svg></label><input id='data-420a3ccb-9bbe-4e6e-bb9b-c36fc25c28d4' class='xr-var-data-in' type='checkbox'><label for='data-420a3ccb-9bbe-4e6e-bb9b-c36fc25c28d4' title='Show/Hide data repr'><svg class='icon xr-icon-database'><use xlink:href='#icon-database'></use></svg></label><div class='xr-var-attrs'><dl class='xr-attrs'></dl></div><div class='xr-var-data'><pre>array([1300, 1304, 1308, 1312, 1316, 1320, 1324, 1328, 1332, 1336, 1340, 1344,\n",
       "       1348, 1352, 1356, 1360, 1364, 1368, 1372, 1376, 1380, 1384, 1388, 1392,\n",
       "       1396, 1400, 1404, 1408, 1412, 1416, 1420, 1424, 1428, 1432, 1436, 1440,\n",
       "       1444, 1448, 1452, 1456, 1460, 1464, 1468, 1472, 1476, 1480, 1484, 1488,\n",
       "       1492, 1496, 1500])</pre></div></li><li class='xr-var-item'><div class='xr-var-name'><span class='xr-has-index'>xline</span></div><div class='xr-var-dims'>(xline)</div><div class='xr-var-dtype'>int64</div><div class='xr-var-preview xr-preview'>1500 1502 1504 ... 1996 1998 2000</div><input id='attrs-16b55566-4d6f-4170-8a27-c9aec5974469' class='xr-var-attrs-in' type='checkbox' disabled><label for='attrs-16b55566-4d6f-4170-8a27-c9aec5974469' title='Show/Hide attributes'><svg class='icon xr-icon-file-text2'><use xlink:href='#icon-file-text2'></use></svg></label><input id='data-9262410d-c8b2-4e08-bc98-8b3a627321ec' class='xr-var-data-in' type='checkbox'><label for='data-9262410d-c8b2-4e08-bc98-8b3a627321ec' title='Show/Hide data repr'><svg class='icon xr-icon-database'><use xlink:href='#icon-database'></use></svg></label><div class='xr-var-attrs'><dl class='xr-attrs'></dl></div><div class='xr-var-data'><pre>array([1500, 1502, 1504, ..., 1996, 1998, 2000], shape=(251,))</pre></div></li></ul></div></li><li class='xr-section-item'><input id='section-4648cfd2-88c1-4007-a9cc-274d241642b6' class='xr-section-summary-in' type='checkbox'  checked><label for='section-4648cfd2-88c1-4007-a9cc-274d241642b6' class='xr-section-summary' >Data variables: <span>(1)</span></label><div class='xr-section-inline-details'></div><div class='xr-section-details'><ul class='xr-var-list'><li class='xr-var-item'><div class='xr-var-name'><span>twt</span></div><div class='xr-var-dims'>(iline, xline)</div><div class='xr-var-dtype'>float64</div><div class='xr-var-preview xr-preview'>2.085e+03 2.085e+03 ... 2.127e+03</div><input id='attrs-f6b4b843-c8cc-4404-83c0-3c27cdac35f3' class='xr-var-attrs-in' type='checkbox' disabled><label for='attrs-f6b4b843-c8cc-4404-83c0-3c27cdac35f3' title='Show/Hide attributes'><svg class='icon xr-icon-file-text2'><use xlink:href='#icon-file-text2'></use></svg></label><input id='data-4bbd35d7-76a9-4f44-97cb-84994e18a88b' class='xr-var-data-in' type='checkbox'><label for='data-4bbd35d7-76a9-4f44-97cb-84994e18a88b' title='Show/Hide data repr'><svg class='icon xr-icon-database'><use xlink:href='#icon-database'></use></svg></label><div class='xr-var-attrs'><dl class='xr-attrs'></dl></div><div class='xr-var-data'><pre>array([[2084.9, 2084.6, 2085.7, ..., 2105.3, 2108. , 2109.3],\n",
       "       [2087.1, 2086.9, 2086.3, ..., 2100. , 2102.7, 2105.3],\n",
       "       [2085.7, 2086.1, 2086.9, ..., 2101.3, 2104. , 2106.7],\n",
       "       ...,\n",
       "       [2124. , 2125.3, 2125.3, ..., 2125.3, 2128. , 2129.3],\n",
       "       [2122.2, 2122.7, 2124. , ..., 2126.2, 2128. , 2129.8],\n",
       "       [2124. , 2125.3, 2125.3, ..., 2122.3, 2124. , 2127.1]],\n",
       "      shape=(51, 251))</pre></div></li></ul></div></li><li class='xr-section-item'><input id='section-f44c847e-e284-46b2-bf34-2f8f3189cb7f' class='xr-section-summary-in' type='checkbox'  ><label for='section-f44c847e-e284-46b2-bf34-2f8f3189cb7f' class='xr-section-summary' >Indexes: <span>(2)</span></label><div class='xr-section-inline-details'></div><div class='xr-section-details'><ul class='xr-var-list'><li class='xr-var-item'><div class='xr-index-name'><div>iline</div></div><div class='xr-index-preview'>PandasIndex</div><input type='checkbox' disabled/><label></label><input id='index-57cd62f7-0f88-4f67-b22a-384d46f4757c' class='xr-index-data-in' type='checkbox'/><label for='index-57cd62f7-0f88-4f67-b22a-384d46f4757c' title='Show/Hide index repr'><svg class='icon xr-icon-database'><use xlink:href='#icon-database'></use></svg></label><div class='xr-index-data'><pre>PandasIndex(Index([1300, 1304, 1308, 1312, 1316, 1320, 1324, 1328, 1332, 1336, 1340, 1344,\n",
       "       1348, 1352, 1356, 1360, 1364, 1368, 1372, 1376, 1380, 1384, 1388, 1392,\n",
       "       1396, 1400, 1404, 1408, 1412, 1416, 1420, 1424, 1428, 1432, 1436, 1440,\n",
       "       1444, 1448, 1452, 1456, 1460, 1464, 1468, 1472, 1476, 1480, 1484, 1488,\n",
       "       1492, 1496, 1500],\n",
       "      dtype=&#x27;int64&#x27;, name=&#x27;iline&#x27;))</pre></div></li><li class='xr-var-item'><div class='xr-index-name'><div>xline</div></div><div class='xr-index-preview'>PandasIndex</div><input type='checkbox' disabled/><label></label><input id='index-6050145a-bdc2-4038-ae82-d9c0472f6b6f' class='xr-index-data-in' type='checkbox'/><label for='index-6050145a-bdc2-4038-ae82-d9c0472f6b6f' title='Show/Hide index repr'><svg class='icon xr-icon-database'><use xlink:href='#icon-database'></use></svg></label><div class='xr-index-data'><pre>PandasIndex(Index([1500, 1502, 1504, 1506, 1508, 1510, 1512, 1514, 1516, 1518,\n",
       "       ...\n",
       "       1982, 1984, 1986, 1988, 1990, 1992, 1994, 1996, 1998, 2000],\n",
       "      dtype=&#x27;int64&#x27;, name=&#x27;xline&#x27;, length=251))</pre></div></li></ul></div></li><li class='xr-section-item'><input id='section-6fc7547b-392e-4389-b0dd-0dbcb205e4ad' class='xr-section-summary-in' type='checkbox' disabled ><label for='section-6fc7547b-392e-4389-b0dd-0dbcb205e4ad' class='xr-section-summary'  title='Expand/collapse section'>Attributes: <span>(0)</span></label><div class='xr-section-inline-details'></div><div class='xr-section-details'><dl class='xr-attrs'></dl></div></li></ul></div></div>"
      ],
      "text/plain": [
       "<xarray.Dataset> Size: 105kB\n",
       "Dimensions:  (iline: 51, xline: 251)\n",
       "Coordinates:\n",
       "  * iline    (iline) int64 408B 1300 1304 1308 1312 1316 ... 1488 1492 1496 1500\n",
       "  * xline    (xline) int64 2kB 1500 1502 1504 1506 1508 ... 1994 1996 1998 2000\n",
       "Data variables:\n",
       "    twt      (iline, xline) float64 102kB 2.085e+03 2.085e+03 ... 2.127e+03"
      ]
     },
     "execution_count": 16,
     "metadata": {},
     "output_type": "execute_result"
    }
   ],
   "source": [
    "# This way only loads 'nan' values to horizon\n",
    "# heimdal_ds = vol.seis.surface_from_points(df, 'twt', right=('iline', 'xline'))\n",
    "# heimdal_ds\n",
    "\n",
    "# This way loads the values\n",
    "df_idx = df.set_index([\"iline\", \"xline\"])\n",
    "heimdal_ds = df_idx.to_xarray()\n",
    "heimdal_ds"
   ]
  },
  {
   "cell_type": "code",
   "execution_count": 17,
   "id": "04c46902-6ab7-47a7-84d0-f5b9220a6b54",
   "metadata": {},
   "outputs": [
    {
     "data": {
      "text/plain": [
       "<matplotlib.collections.QuadMesh at 0x13accdbe0>"
      ]
     },
     "execution_count": 17,
     "metadata": {},
     "output_type": "execute_result"
    },
    {
     "data": {
      "image/png": "[encoded data removed]",
      "text/plain": [
       "<Figure size 640x480 with 2 Axes>"
      ]
     },
     "metadata": {},
     "output_type": "display_data"
    }
   ],
   "source": [
    "# Plotting from the \".ds\" produces filled in grid, ie no gaps at iline 1300, 1302, 1304, etc\n",
    "heimdal_ds.twt.plot(cmap='hsv')"
   ]
  },
  {
   "cell_type": "code",
   "execution_count": 18,
   "id": "78486047-2f55-4194-8f82-00ffc1cdfe18",
   "metadata": {},
   "outputs": [
    {
     "data": {
      "text/plain": [
       "<matplotlib.collections.QuadMesh at 0x13ad68410>"
      ]
     },
     "execution_count": 18,
     "metadata": {},
     "output_type": "execute_result"
    },
    {
     "data": {
      "image/png": "[encoded data removed]",
      "text/plain": [
       "<Figure size 640x480 with 2 Axes>"
      ]
     },
     "metadata": {},
     "output_type": "display_data"
    }
   ],
   "source": [
    "vol[\"Heimdal\"] = heimdal_ds.twt\n",
    "# vol\n",
    "\n",
    "# Horizon data is every 4th iline, and seismic is every 2nd iline\n",
    "# Plotting this way leaves Iline gaps - ie at 1302, 1306, 1310, etc\n",
    "vol.Heimdal.plot(cmap='hsv')"
   ]
  },
  {
   "cell_type": "code",
   "execution_count": 45,
   "id": "6030e48b-75ad-4df7-a0d6-1876fe91ead2",
   "metadata": {},
   "outputs": [],
   "source": [
    "# # AttributeError: 'Dataset' object has no attribute 'cdp_x'\n",
    "\n",
    "# axs = plt.subplot()\n",
    "# mesh = axs.pcolormesh(\n",
    "#     heimdal_ds.cdp_x.values,\n",
    "#     heimdal_ds.cdp_y.values,\n",
    "#     heimdal_ds.twt.values,\n",
    "#     shading=\"auto\")\n",
    "# axs.set_aspect(1)\n",
    "# _ = plt.colorbar(mesh, orientation=\"horizontal\")"
   ]
  },
  {
   "cell_type": "code",
   "execution_count": 21,
   "id": "e6029ac0-caf0-4e87-96e5-b4db3f84109c",
   "metadata": {},
   "outputs": [
    {
     "name": "stderr",
     "output_type": "stream",
     "text": [
      "/var/folders/6n/1q5tw76s26d681wk41cg18pc0000gn/T/ipykernel_23711/1942777799.py:2: UserWarning: The input coordinates to pcolormesh are interpreted as cell centers, but are not monotonically increasing or decreasing. This may lead to incorrectly calculated cell edges, in which case, please supply explicit cell edges to pcolormesh.\n",
      "  mesh = axs.pcolormesh(\n"
     ]
    },
    {
     "data": {
      "image/png": "[encoded data removed]",
      "text/plain": [
       "<Figure size 640x480 with 2 Axes>"
      ]
     },
     "metadata": {},
     "output_type": "display_data"
    }
   ],
   "source": [
    "axs = plt.subplot()\n",
    "mesh = axs.pcolormesh(\n",
    "    vol.cdp_x.values,\n",
    "    vol.cdp_y.values,\n",
    "    vol.Heimdal.values,\n",
    "    shading=\"auto\")\n",
    "axs.set_aspect(1)\n",
    "_ = plt.colorbar(mesh, orientation=\"horizontal\")"
   ]
  },
  {
   "cell_type": "code",
   "execution_count": 46,
   "id": "9447b831-cefb-45ea-82c1-52837ce1b601",
   "metadata": {},
   "outputs": [],
   "source": [
    "# tform = vol.seis.get_affine_transform()  # ValueError:  ????\n",
    "\n",
    "# axs = plt.subplot()\n",
    "# mesh = axs.pcolormesh(\n",
    "#     heimdal_ds.iline,\n",
    "#     heimdal_ds.xline,\n",
    "#     heimdal_ds.twt.T,\n",
    "#     shading=\"auto\",\n",
    "#     transform=tform + axs.transData\n",
    "# )\n",
    "# axs.set_aspect(1)\n",
    "# _ = axs.plot([1300, 1500], [1500, 2000], transform=tform + axs.transData, color=\"w\")"
   ]
  },
  {
   "cell_type": "code",
   "execution_count": null,
   "id": "5aafda2c-64de-4a7e-8147-ad795b8cb240",
   "metadata": {},
   "outputs": [],
   "source": []
  },
  {
   "cell_type": "code",
   "execution_count": null,
   "id": "3fe23270-e10d-4839-b7fa-b697f5dd6e12",
   "metadata": {},
   "outputs": [],
   "source": []
  },
  {
   "cell_type": "code",
   "execution_count": null,
   "id": "2a256608-f782-4ab0-802e-a454f650bf3c",
   "metadata": {},
   "outputs": [],
   "source": []
  },
  {
   "cell_type": "code",
   "execution_count": null,
   "id": "6bd15b8a-a9c1-4d46-ae5b-aec647a1594c",
   "metadata": {},
   "outputs": [],
   "source": []
  },
  {
   "cell_type": "code",
   "execution_count": null,
   "id": "d10b7ed9-222d-4ef1-bb18-25121a819ef4",
   "metadata": {},
   "outputs": [],
   "source": [
    "cp = vol.segysak.calc_corner_points()\n",
    "corners = np.array(cp)\n",
    "corners\n",
    "\n",
    "cdp_x_min = vol.cdp_x.values.min()\n",
    "cdp_x_max = vol.cdp_x.values.max()\n",
    "cdp_y_min = vol.cdp_y.values.min()\n",
    "cdp_y_max = vol.cdp_y.values.max()\n",
    "\n",
    "# np.linspace(418258, 424063, 250)\n",
    "# print(cdp_x_min, cdp_x_max, cdp_y_min, cdp_y_max)"
   ]
  },
  {
   "cell_type": "code",
   "execution_count": 47,
   "id": "6a7cae74-9770-41d0-857e-6197483506c4",
   "metadata": {},
   "outputs": [],
   "source": [
    "# from scipy.interpolate import griddata\n",
    "\n",
    "# # ValueError: Input points array must have 2 dimensions.\n",
    "# xi = np.linspace(cdp_x_min, cdp_x_max, 250)\n",
    "# yi = np.linspace(cdp_y_min, cdp_y_max, 250)\n",
    "# X, Y = np.meshgrid(xi, yi)\n",
    "# Z = griddata((vol.cdp_x, vol.cdp_y), vol.Heimdal, (X, Y), rescale=True)"
   ]
  },
  {
   "cell_type": "code",
   "execution_count": null,
   "id": "da549b20-717e-475b-9a55-dd3095806c42",
   "metadata": {},
   "outputs": [],
   "source": [
    "# from matplotlib.patches import Polygon\n",
    "\n",
    "# survey_limits = Polygon(\n",
    "#     corners, fill=False, edgecolor=\"r\", linewidth=2, label=\"3D survey extent\"\n",
    "# )\n",
    "\n",
    "# f, ax = plt.subplots(figsize=(8, 6))\n",
    "# pp = ax.pcolormesh(X, Y, Z, cmap=\"terrain_r\")\n",
    "# f.colorbar(pp, orientation=\"horizontal\", label=\"TWT [ms]\")\n",
    "# ax.add_patch(survey_limits)\n",
    "# ax.axis(\"equal\")\n",
    "# ax.legend()\n",
    "# ax.set_title(\"Top Hugin fm.\")"
   ]
  },
  {
   "cell_type": "code",
   "execution_count": null,
   "id": "2c9d5a42-c2c8-4049-b743-1f292328bc2b",
   "metadata": {},
   "outputs": [],
   "source": []
  },
  {
   "cell_type": "code",
   "execution_count": null,
   "id": "1ee21d19-0c3a-4fc0-9f71-121f981944ef",
   "metadata": {},
   "outputs": [],
   "source": []
  },
  {
   "cell_type": "code",
   "execution_count": null,
   "id": "a1ea9323-2bf2-4e6b-8b65-d7d3ec21e158",
   "metadata": {},
   "outputs": [],
   "source": []
  },
  {
   "cell_type": "code",
   "execution_count": null,
   "id": "840a97ca-b010-4ddb-ae3a-d9f993d59b5d",
   "metadata": {},
   "outputs": [],
   "source": [
    "envelope = bg.attribute.envelope(vol.nears)\n",
    "phase = bg.attribute.instantaneous_phase(vol.nears)\n",
    "energy = bg.attribute.energy(vol.nears, duration=0.016, dt=0.004)\n",
    "instamp = bg.attribute.complex.instantaneous_amplitude(vol.nears)\n",
    "quad = bg.attribute.complex.quadrature(vol.nears)\n",
    "refstr = bg.attribute.complex.reflection_strength(vol.nears)"
   ]
  },
  {
   "cell_type": "code",
   "execution_count": null,
   "id": "8fdc335d-b6c3-45fc-9e3c-774d65c56e3a",
   "metadata": {},
   "outputs": [],
   "source": [
    "#freq = bg.attribute.instantaneous_frequency(vol.nears, dt=0.004)#, kind='so', percentile_clip=99) \n",
    "#ValueError: operands could not be broadcast together with shapes (99,251,250) (100,251,250)"
   ]
  },
  {
   "cell_type": "code",
   "execution_count": null,
   "id": "44c8408a-bd74-482c-8b36-1d960aec78cc",
   "metadata": {},
   "outputs": [],
   "source": [
    "#specd = bg.attribute.spectraldecomp(vol.nears)\n",
    "#ValueError: operands could not be broadcast together with shapes (32,) (32,250) "
   ]
  },
  {
   "cell_type": "code",
   "execution_count": null,
   "id": "ded39828-1d29-42d4-abbe-04ac636d97a7",
   "metadata": {},
   "outputs": [],
   "source": [
    "print(envelope.shape)\n",
    "print(phase.shape)\n",
    "print(energy.shape)\n",
    "print(instamp.shape)\n",
    "print(quad.shape)\n",
    "print(refstr.shape)\n",
    "#print(freq.shape)\n",
    "#print(specd.shape)"
   ]
  },
  {
   "cell_type": "code",
   "execution_count": null,
   "id": "f676352f-7b18-4e6e-a7f6-5619e7f51413",
   "metadata": {},
   "outputs": [],
   "source": [
    "ilines = np.arange(1300, 1501, 2)\n",
    "xlines = np.arange(1500, 2001, 2)\n",
    "samples = np.arange(1500, 2500, 4)"
   ]
  },
  {
   "cell_type": "code",
   "execution_count": null,
   "id": "930f654d-16b1-443e-be4a-f31a48177e48",
   "metadata": {},
   "outputs": [],
   "source": [
    "ds_env = xr.Dataset(\n",
    "    {\n",
    "        \"envelope\": ((\"iline\", \"xline\", \"samples\"), envelope)\n",
    "    },\n",
    "    coords={\n",
    "        \"iline\" : ilines,\n",
    "        \"xline\" : xlines,\n",
    "        \"samples\" : samples\n",
    "    }\n",
    ")\n",
    "\n",
    "# ds_env"
   ]
  },
  {
   "cell_type": "code",
   "execution_count": null,
   "id": "1f508508-d9ea-479e-ace2-8e6c2afc77ad",
   "metadata": {},
   "outputs": [],
   "source": [
    "ds_phase = xr.Dataset(\n",
    "    {\n",
    "        \"phase\": ((\"iline\", \"xline\", \"samples\"), phase)\n",
    "    },\n",
    "    coords={\n",
    "        \"iline\" : ilines,\n",
    "        \"xline\" : xlines,\n",
    "        \"samples\" : samples\n",
    "    }\n",
    ")\n",
    "\n",
    "# ds_phase"
   ]
  },
  {
   "cell_type": "code",
   "execution_count": null,
   "id": "6315ffd5-c113-47da-9d56-8920336d37d3",
   "metadata": {},
   "outputs": [],
   "source": [
    "# ds_freq = xr.Dataset(\n",
    "#     {\n",
    "#         \"InstFreq\": ((\"iline\", \"xline\", \"samples\"), freq)\n",
    "#     },\n",
    "#     coords={\n",
    "#         \"iline\" : ilines,\n",
    "#         \"xline\" : xlines,\n",
    "#         \"samples\" : samples\n",
    "#     }\n",
    "# )"
   ]
  },
  {
   "cell_type": "code",
   "execution_count": null,
   "id": "8b5d72d1-e854-40ba-b04f-70926e28dbfd",
   "metadata": {},
   "outputs": [],
   "source": [
    "ds_energy = xr.Dataset(\n",
    "    {\n",
    "        \"energy\": ((\"iline\", \"xline\", \"samples\"), energy)\n",
    "    },\n",
    "    coords={\n",
    "        \"iline\" : ilines,\n",
    "        \"xline\" : xlines,\n",
    "        \"samples\" : samples\n",
    "    }\n",
    ")"
   ]
  },
  {
   "cell_type": "code",
   "execution_count": null,
   "id": "3893145a-9938-423d-9729-3cdbf23d19ff",
   "metadata": {},
   "outputs": [],
   "source": [
    "ds_instamp = xr.Dataset(\n",
    "    {\n",
    "        \"instamp\": ((\"iline\", \"xline\", \"samples\"), instamp)\n",
    "    },\n",
    "    coords={\n",
    "        \"iline\" : ilines,\n",
    "        \"xline\" : xlines,\n",
    "        \"samples\" : samples\n",
    "    }\n",
    ")"
   ]
  },
  {
   "cell_type": "code",
   "execution_count": null,
   "id": "8ee61be5-96da-4ddd-b516-f107645152e0",
   "metadata": {},
   "outputs": [],
   "source": [
    "ds_quad = xr.Dataset(\n",
    "    {\n",
    "        \"quad\": ((\"iline\", \"xline\", \"samples\"), quad)\n",
    "    },\n",
    "    coords={\n",
    "        \"iline\" : ilines,\n",
    "        \"xline\" : xlines,\n",
    "        \"samples\" : samples\n",
    "    }\n",
    ")"
   ]
  },
  {
   "cell_type": "code",
   "execution_count": null,
   "id": "8d2fd030-8004-4eb9-8738-9d2664212d34",
   "metadata": {},
   "outputs": [],
   "source": [
    "ds_refstr = xr.Dataset(\n",
    "    {\n",
    "        \"refstr\": ((\"iline\", \"xline\", \"samples\"), refstr)\n",
    "    },\n",
    "    coords={\n",
    "        \"iline\" : ilines,\n",
    "        \"xline\" : xlines,\n",
    "        \"samples\" : samples\n",
    "    }\n",
    ")"
   ]
  },
  {
   "cell_type": "code",
   "execution_count": null,
   "id": "d76d2aa2-8d7b-449d-a99c-3517e4fd6160",
   "metadata": {},
   "outputs": [],
   "source": [
    "vol[\"Envelope\"] = ds_env.envelope\n",
    "vol[\"Phase\"] = ds_phase.phase\n",
    "vol[\"Energy\"] = ds_energy.energy\n",
    "vol[\"InstAmp\"] = ds_instamp.instamp\n",
    "vol[\"Quadrature\"] = ds_quad.quad\n",
    "vol[\"RefStr\"] = ds_refstr.refstr\n",
    "# vol[\"InstFreq\"] = ds_freq.freq"
   ]
  },
  {
   "cell_type": "code",
   "execution_count": null,
   "id": "056ae990-92b8-4654-89a7-54b4fbbe8f08",
   "metadata": {},
   "outputs": [],
   "source": [
    "fig, ax1 = plt.subplots(ncols=1, figsize=(15, 8))\n",
    "iline_sel = 1400\n",
    "vol.nears.transpose(\"samples\", \"iline\", \"xline\", transpose_coords=True).sel(\n",
    "    iline=iline_sel\n",
    ").plot(yincrease=False, cmap=\"seismic_r\")\n",
    "plt.grid(\"grey\")\n",
    "plt.ylabel(\"TWT\")\n",
    "plt.xlabel(\"XLINE\")"
   ]
  },
  {
   "cell_type": "code",
   "execution_count": null,
   "id": "a2cd9bea-c777-4ae6-9b7c-df19af9a9702",
   "metadata": {},
   "outputs": [],
   "source": [
    "fig, ax1 = plt.subplots(ncols=1, figsize=(15, 8))\n",
    "iline_sel = 1400\n",
    "vol.fars.transpose(\"samples\", \"iline\", \"xline\", transpose_coords=True).sel(\n",
    "    iline=iline_sel\n",
    ").plot(yincrease=False, cmap=\"seismic_r\")\n",
    "plt.grid(\"grey\")\n",
    "plt.ylabel(\"TWT\")\n",
    "plt.xlabel(\"XLINE\")"
   ]
  },
  {
   "cell_type": "code",
   "execution_count": null,
   "id": "5c5b9a9e-bc9f-4188-a1ce-8035260fac7e",
   "metadata": {},
   "outputs": [],
   "source": [
    "fig, ax1 = plt.subplots(ncols=1, figsize=(15, 8))\n",
    "iline_sel = 1400\n",
    "vol[\"(F-N)F\"].transpose(\"samples\", \"iline\", \"xline\", transpose_coords=True).sel(\n",
    "    iline=iline_sel\n",
    ").plot(yincrease=False, cmap=\"seismic_r\")\n",
    "plt.grid(\"grey\")\n",
    "plt.ylabel(\"TWT\")\n",
    "plt.xlabel(\"XLINE\")"
   ]
  },
  {
   "cell_type": "code",
   "execution_count": null,
   "id": "9829d58b-e373-43af-9763-e75e64ff1b88",
   "metadata": {},
   "outputs": [],
   "source": [
    "fig, ax1 = plt.subplots(ncols=1, figsize=(15, 8))\n",
    "iline_sel = 1400\n",
    "vol.Envelope.transpose(\"samples\", \"iline\", \"xline\", transpose_coords=True).sel(\n",
    "    iline=iline_sel\n",
    ").plot(yincrease=False, cmap=\"seismic_r\")\n",
    "plt.grid(\"grey\")\n",
    "plt.ylabel(\"TWT\")\n",
    "plt.xlabel(\"XLINE\")"
   ]
  },
  {
   "cell_type": "code",
   "execution_count": null,
   "id": "86355096-5954-488d-a880-e3880ea7e359",
   "metadata": {},
   "outputs": [],
   "source": [
    "fig, ax1 = plt.subplots(ncols=1, figsize=(15, 8))\n",
    "iline_sel = 1400\n",
    "vol.Phase.transpose(\"samples\", \"iline\", \"xline\", transpose_coords=True).sel(\n",
    "    iline=iline_sel\n",
    ").plot(yincrease=False, cmap=\"seismic_r\")\n",
    "plt.grid(\"grey\")\n",
    "plt.ylabel(\"TWT\")\n",
    "plt.xlabel(\"XLINE\")"
   ]
  },
  {
   "cell_type": "code",
   "execution_count": null,
   "id": "82fbd11f-a7aa-4b25-89ae-ce9c0152a31e",
   "metadata": {},
   "outputs": [],
   "source": [
    "fig, ax1 = plt.subplots(ncols=1, figsize=(15, 8))\n",
    "iline_sel = 1400\n",
    "vol.Energy.transpose(\"samples\", \"iline\", \"xline\", transpose_coords=True).sel(\n",
    "    iline=iline_sel\n",
    ").plot(yincrease=False, cmap=\"seismic_r\")\n",
    "plt.grid(\"grey\")\n",
    "plt.ylabel(\"TWT\")\n",
    "plt.xlabel(\"XLINE\")"
   ]
  },
  {
   "cell_type": "code",
   "execution_count": null,
   "id": "17b2df61-7e10-430c-bdfc-5640d00dde0e",
   "metadata": {},
   "outputs": [],
   "source": [
    "fig, ax1 = plt.subplots(ncols=1, figsize=(15, 8))\n",
    "iline_sel = 1400\n",
    "vol.InstAmp.transpose(\"samples\", \"iline\", \"xline\", transpose_coords=True).sel(\n",
    "    iline=iline_sel\n",
    ").plot(yincrease=False, cmap=\"seismic_r\")\n",
    "plt.grid(\"grey\")\n",
    "plt.ylabel(\"TWT\")\n",
    "plt.xlabel(\"XLINE\")"
   ]
  },
  {
   "cell_type": "code",
   "execution_count": null,
   "id": "bd62cc90-26cf-41aa-99a0-fc1de3fde99c",
   "metadata": {},
   "outputs": [],
   "source": [
    "fig, ax1 = plt.subplots(ncols=1, figsize=(15, 8))\n",
    "iline_sel = 1400\n",
    "vol.RefStr.transpose(\"samples\", \"iline\", \"xline\", transpose_coords=True).sel(\n",
    "    iline=iline_sel\n",
    ").plot(yincrease=False, cmap=\"seismic_r\")\n",
    "plt.grid(\"grey\")\n",
    "plt.ylabel(\"TWT\")\n",
    "plt.xlabel(\"XLINE\")"
   ]
  },
  {
   "cell_type": "code",
   "execution_count": null,
   "id": "eda003ff-5378-42e7-b7b7-54fbd32c2773",
   "metadata": {},
   "outputs": [],
   "source": [
    "fig, ax1 = plt.subplots(ncols=1, figsize=(15, 8))\n",
    "iline_sel = 1400\n",
    "vol.InstAmp.transpose(\"samples\", \"iline\", \"xline\", transpose_coords=True).sel(\n",
    "    iline=iline_sel\n",
    ").plot(yincrease=False, cmap=\"seismic_r\")\n",
    "plt.grid(\"grey\")\n",
    "plt.ylabel(\"TWT\")\n",
    "plt.xlabel(\"XLINE\")"
   ]
  },
  {
   "cell_type": "code",
   "execution_count": null,
   "id": "a7f75b3d-37a2-454e-a8dc-3e0289ffaf09",
   "metadata": {},
   "outputs": [],
   "source": []
  },
  {
   "cell_type": "code",
   "execution_count": null,
   "id": "4a8c00a5-f146-4097-8854-dfd68e86576d",
   "metadata": {},
   "outputs": [],
   "source": []
  },
  {
   "cell_type": "code",
   "execution_count": null,
   "id": "3e122cb7-46f9-4763-ae09-fe0f66a3d1c6",
   "metadata": {},
   "outputs": [],
   "source": [
    "time_sel = 550\n",
    "fig, ax1 = plt.subplots(ncols=1, figsize=(15, 8))\n",
    "vol.nears.sel(samples=time_sel, method=\"nearest\").plot(cmap=\"seismic_r\")\n",
    "plt.title(f\"Time slice at {time_sel} ms\")\n",
    "plt.grid(True)\n",
    "plt.xlabel(\"XLINE\")\n",
    "plt.ylabel(\"ILINE\")"
   ]
  },
  {
   "cell_type": "code",
   "execution_count": null,
   "id": "8a475040-a388-455c-b461-025c5a19b0b9",
   "metadata": {},
   "outputs": [],
   "source": [
    "time_sel = 550\n",
    "fig, ax1 = plt.subplots(ncols=1, figsize=(15, 8))\n",
    "vol.fars.sel(samples=time_sel, method=\"nearest\").plot(cmap=\"seismic_r\")\n",
    "plt.title(f\"Time slice at {time_sel} ms\")\n",
    "plt.grid(True)\n",
    "plt.xlabel(\"XLINE\")\n",
    "plt.ylabel(\"ILINE\")"
   ]
  },
  {
   "cell_type": "code",
   "execution_count": null,
   "id": "4d69440a-1577-449d-8a7c-4901de2c4b66",
   "metadata": {},
   "outputs": [],
   "source": []
  },
  {
   "cell_type": "code",
   "execution_count": null,
   "id": "1b8bb736-50f3-4c93-b651-b26545d74ca9",
   "metadata": {},
   "outputs": [],
   "source": []
  },
  {
   "cell_type": "code",
   "execution_count": null,
   "id": "63914c16-8a1e-4f76-88cd-13f7d6f5c5f5",
   "metadata": {},
   "outputs": [],
   "source": []
  },
  {
   "cell_type": "code",
   "execution_count": null,
   "id": "c7f9ae5d-1d1e-42d6-b20b-b38baebde8c1",
   "metadata": {},
   "outputs": [],
   "source": [
    "# see 1:33:45 - Horizon flattening\n",
    "vol[\"trace\"] = ((\"iline\", \"xline\"), np.arange(101*251, dtype=int).reshape(101, 251))\n",
    "# vol\n",
    "\n",
    "# vol.trace"
   ]
  },
  {
   "cell_type": "code",
   "execution_count": null,
   "id": "2fd026f0-5d93-4977-9dc5-ea24c3fe02c3",
   "metadata": {},
   "outputs": [],
   "source": []
  },
  {
   "cell_type": "code",
   "execution_count": null,
   "id": "f2c2b5c5-615a-43f7-81e2-7c6093f2c856",
   "metadata": {},
   "outputs": [],
   "source": []
  },
  {
   "cell_type": "code",
   "execution_count": null,
   "id": "78de14b4-d778-4cd6-9de7-ba831e58c502",
   "metadata": {},
   "outputs": [],
   "source": []
  },
  {
   "cell_type": "code",
   "execution_count": null,
   "id": "fe971c14-683a-42ee-bb14-743e51a0fde8",
   "metadata": {},
   "outputs": [],
   "source": []
  },
  {
   "cell_type": "markdown",
   "id": "b99ab101-9a40-46a2-80df-cabed7e31d05",
   "metadata": {},
   "source": [
    "Near and far offset partial stacks: subcubes from full 3-d cubes.\n",
    "segy format\n",
    "\n",
    "* inline: 1300-1500, every 2\n",
    "* xline: 1500-2000, every 2\n",
    "* time: 1500-2500 ms\n",
    "* total 25351 traces for each subcube.\n",
    "\n",
    "* xline number stored in bytes 21-26.\n",
    "* inline number (multiplied by 1000) stored in bytes 41-44."
   ]
  },
  {
   "cell_type": "code",
   "execution_count": null,
   "id": "fcfb9f6e-3d67-4702-95f3-3efd67b6cc92",
   "metadata": {},
   "outputs": [],
   "source": [
    "# Vectorise for machine learning \n",
    "vol_df = vol.isel(iline=10).to_dataframe()\n",
    "vol_df\n",
    "\n",
    "vol_df_reindex = vol_df.reset_index()\n",
    "vol_df_reindex\n",
    "\n",
    "vol_df_multi = vol_df_reindex.set_index([\"iline\", \"xline\", \"twt\"])\n",
    "vol_df_multi\n",
    "\n",
    "vol_xr = vol_df_multi.to_xarray()\n",
    "vol_xr\n",
    "\n",
    "# attributes will be lost when coming back to xarray\n",
    "vol_xr.attrs\n",
    "\n",
    "vol_xr.attrs = vol.attrs\n",
    "vol_xr.attrs\n",
    "\n",
    "# cdp_x and cdp_y were broadcast to 3D.  Now collapse back to 2 dimensions\n",
    "vol_xr[\"cdp_x\"] = vol_xr[\"cdp_x\"].mean(dim=[\"twt\"])\n",
    "vol_xr[\"cdp_y\"] = vol_xr[\"cdp_y\"].mean(dim=[\"twt\"])\n",
    "vol_xr = vol_xr.set_coords([\"cdp_x\", \"cdp_y\"])\n",
    "\n",
    "vol_xr"
   ]
  },
  {
   "cell_type": "code",
   "execution_count": null,
   "id": "b3a7053e-ec8e-4da1-915f-cba7e92ab6f2",
   "metadata": {},
   "outputs": [],
   "source": []
  }
 ],
 "metadata": {
  "kernelspec": {
   "display_name": "Python 3 (ipykernel)",
   "language": "python",
   "name": "python3"
  },
  "language_info": {
   "codemirror_mode": {
    "name": "ipython",
    "version": 3
   },
   "file_extension": ".py",
   "mimetype": "text/x-python",
   "name": "python",
   "nbconvert_exporter": "python",
   "pygments_lexer": "ipython3",
   "version": "3.13.3"
  }
 },
 "nbformat": 4,
 "nbformat_minor": 5
}
